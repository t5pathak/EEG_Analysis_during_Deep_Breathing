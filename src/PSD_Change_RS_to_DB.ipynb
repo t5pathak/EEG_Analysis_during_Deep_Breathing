{
 "cells": [
  {
   "cell_type": "markdown",
   "id": "descending-frame",
   "metadata": {},
   "source": [
    "## Change in PSD during Deep Breathing"
   ]
  },
  {
   "cell_type": "code",
   "execution_count": 1,
   "id": "automotive-given",
   "metadata": {},
   "outputs": [],
   "source": [
    "import numpy as np\n",
    "import math\n",
    "import random\n",
    "import statistics\n",
    "import matplotlib.pyplot as plt\n",
    "from scipy import signal\n",
    "from fastdtw import fastdtw\n",
    "from scipy.spatial.distance import euclidean\n",
    "from statistics import mean\n",
    "import time\n",
    "from progressbar import progressbar"
   ]
  },
  {
   "cell_type": "code",
   "execution_count": 2,
   "id": "large-beauty",
   "metadata": {},
   "outputs": [],
   "source": [
    "f_sampling = 500\n",
    "source_file_RS = '../dataset/Merged_RS_Rejected.txt'\n",
    "source_file_DB = '../dataset/Merged_DB_Rejected.txt'"
   ]
  },
  {
   "cell_type": "code",
   "execution_count": 3,
   "id": "important-house",
   "metadata": {},
   "outputs": [],
   "source": [
    "def plot_PSD(f, psd, title):\n",
    "    plt.semilogy(f, psd)\n",
    "    plt.ylim([1e-3, 100])\n",
    "    plt.xlim([6, 15])\n",
    "    plt.xlabel('frequency [Hz]')\n",
    "    plt.ylabel('PSD')\n",
    "    plt.title(title)\n",
    "    plt.show()"
   ]
  },
  {
   "cell_type": "code",
   "execution_count": 4,
   "id": "sweet-aspect",
   "metadata": {},
   "outputs": [],
   "source": [
    "def get_theta(psd, f):\n",
    "    theta_psd = []\n",
    "    theta_f = []\n",
    "\n",
    "    for i in range (len(psd)):\n",
    "        if (f[i] >= 4 and f[i] <= 8):\n",
    "            theta_psd.append(psd[i])\n",
    "            theta_f.append(f[i])\n",
    "    return theta_psd, theta_f"
   ]
  },
  {
   "cell_type": "code",
   "execution_count": 5,
   "id": "floral-crest",
   "metadata": {},
   "outputs": [],
   "source": [
    "def get_alpha(psd, f):\n",
    "    alpha_psd = []\n",
    "    alpha_f = []\n",
    "\n",
    "    for i in range (len(psd)):\n",
    "        if (f[i] >= 8 and f[i] <= 12):\n",
    "            alpha_psd.append(psd[i])\n",
    "            alpha_f.append(f[i])\n",
    "    return alpha_psd, alpha_f"
   ]
  },
  {
   "cell_type": "code",
   "execution_count": 6,
   "id": "appreciated-juvenile",
   "metadata": {},
   "outputs": [],
   "source": [
    "def get_beta(psd, f):\n",
    "    beta_psd = []\n",
    "    beta_f = []\n",
    "\n",
    "    for i in range (len(psd)):\n",
    "        if (f[i] >= 13 and f[i] <= 30):\n",
    "            beta_psd.append(psd[i])\n",
    "            beta_f.append(f[i])\n",
    "    return beta_psd, beta_f"
   ]
  },
  {
   "cell_type": "code",
   "execution_count": 7,
   "id": "forced-senior",
   "metadata": {},
   "outputs": [],
   "source": [
    "def freq_scaling(f, old_sig, factor):\n",
    "    len_new = 0\n",
    "    for i in range (0, len(f),factor):\n",
    "        len_new = len_new + 1\n",
    "\n",
    "    f_new = np.zeros(shape=len_new)\n",
    "    psd_new = np.zeros(shape=len_new)\n",
    "\n",
    "    index = 0\n",
    "    for i in range (0,len(f),factor):\n",
    "        f_new[index] = f[i]\n",
    "        psd_new[index] = psd[i]\n",
    "        index = index + 1\n",
    "    return f_new, psd_new"
   ]
  },
  {
   "cell_type": "code",
   "execution_count": 8,
   "id": "inappropriate-basis",
   "metadata": {},
   "outputs": [],
   "source": [
    "Time_a, Fp1_a, Fz_a, F3_a, F7_a, FT9_a, FC5_a, FC1_a, C3_a, T7_a, TP9_a, CP5_a, CP1_a, Pz_a, P3_a, P7_a, O1_a, Oz_a, O2_a, P4_a, P8_a, TP10_a, CP6_a, CP2_a, C4_a, T8_a, FT10_a, FC6_a, FC2_a, F4_a, F8_a, Fp2_a = np.loadtxt( \n",
    "    source_file_RS, \n",
    "    skiprows = 1, #If top title row present\n",
    "    unpack = True)\n",
    "Time_b, Fp1_b, Fz_b, F3_b, F7_b, FT9_b, FC5_b, FC1_b, C3_b, T7_b, TP9_b, CP5_b, CP1_b, Pz_b, P3_b, P7_b, O1_b, Oz_b, O2_b, P4_b, P8_b, TP10_b, CP6_b, CP2_b, C4_b, T8_b, FT10_b, FC6_b, FC2_b, F4_b, F8_b, Fp2_b = np.loadtxt( \n",
    "    source_file_DB,\n",
    "    skiprows = 1, #If top title row present\n",
    "    unpack = True)"
   ]
  },
  {
   "cell_type": "code",
   "execution_count": 9,
   "id": "reverse-subcommittee",
   "metadata": {},
   "outputs": [],
   "source": [
    "motor_elec_name = [\"F3\",\"Fz\",\"F4\",\"FC1\",\"FC2\",\"C3\",\"C4\",\"CP1\",\"CP2\",\"P3\",\"Pz\",\"P4\"]\n",
    "motor_elec_RS_mat = np.stack((F3_a, Fz_a, F4_a, FC1_a, FC2_a, C3_a, C4_a, CP1_a, CP2_a, P3_a, Pz_a, P4_a))\n",
    "motor_elec_DB_mat = np.stack((F3_b, Fz_b, F4_b, FC1_b, FC2_b, C3_b, C4_b, CP1_b, CP2_b, P3_b, Pz_b, P4_b))\n",
    "\n",
    "DB_induced_PSD_change_theta = np.zeros(shape=len(motor_elec_name))\n",
    "DB_induced_PSD_change_alpha = np.zeros(shape=len(motor_elec_name))\n",
    "DB_induced_PSD_change_beta = np.zeros(shape=len(motor_elec_name))\n",
    "\n",
    "RS_variance_alpha = np.zeros(shape=len(motor_elec_name))\n",
    "DB_variance_alpha = np.zeros(shape=len(motor_elec_name))\n",
    "\n",
    "RS_variance_beta = np.zeros(shape=len(motor_elec_name))\n",
    "DB_variance_beta = np.zeros(shape=len(motor_elec_name))\n",
    "\n",
    "RS_variance_theta = np.zeros(shape=len(motor_elec_name))\n",
    "DB_variance_theta = np.zeros(shape=len(motor_elec_name))"
   ]
  },
  {
   "cell_type": "markdown",
   "id": "future-classroom",
   "metadata": {},
   "source": [
    "### a - Resting State ; b - Deep Breathing"
   ]
  },
  {
   "cell_type": "code",
   "execution_count": 10,
   "id": "czech-employee",
   "metadata": {},
   "outputs": [
    {
     "name": "stderr",
     "output_type": "stream",
     "text": [
      "100% (12 of 12) |########################| Elapsed Time: 0:00:08 Time:  0:00:08\n"
     ]
    }
   ],
   "source": [
    "for electrode in progressbar(range (len(motor_elec_name))):\n",
    "    f, psd = signal.periodogram(motor_elec_RS_mat[electrode], f_sampling)\n",
    "    #f, psd = freq_scaling(f, psd,100)\n",
    "    \n",
    "    a_theta_psd, a_theta_f = get_theta(psd, f)\n",
    "    a_alpha_psd, a_alpha_f = get_alpha(psd, f)\n",
    "    a_beta_psd, a_beta_f = get_beta(psd, f)\n",
    "\n",
    "    f, psd = signal.periodogram(motor_elec_DB_mat[electrode], f_sampling)\n",
    "    #f, psd = freq_scaling(f, psd, 100)\n",
    "    \n",
    "    b_theta_psd, b_theta_f = get_theta(psd, f)\n",
    "    b_alpha_psd, b_alpha_f = get_alpha(psd, f)\n",
    "    b_beta_psd, b_beta_f = get_beta(psd, f)\n",
    "    \n",
    "    RS_mean = mean(a_theta_psd)\n",
    "    DB_mean = mean(b_theta_psd)\n",
    "    DB_induced_PSD_change_theta[electrode] = ((DB_mean - RS_mean)/RS_mean)*100\n",
    "    \n",
    "    RS_mean = mean(a_alpha_psd)\n",
    "    DB_mean = mean(b_alpha_psd)\n",
    "    DB_induced_PSD_change_alpha[electrode] = ((DB_mean - RS_mean)/RS_mean)*100\n",
    "    \n",
    "    RS_mean = mean(a_beta_psd)\n",
    "    DB_mean = mean(b_beta_psd)\n",
    "    DB_induced_PSD_change_beta[electrode] = ((DB_mean - RS_mean)/RS_mean)*100\n",
    "    \n",
    "    RS_variance_theta[electrode] = statistics.variance(a_theta_psd)\n",
    "    DB_variance_theta[electrode] = statistics.variance(b_theta_psd)  \n",
    "    \n",
    "    RS_variance_alpha[electrode] = statistics.variance(a_alpha_psd)\n",
    "    DB_variance_alpha[electrode] = statistics.variance(b_alpha_psd)\n",
    "    \n",
    "    RS_variance_beta[electrode] = statistics.variance(a_beta_psd)\n",
    "    DB_variance_beta[electrode] = statistics.variance(b_beta_psd)  "
   ]
  },
  {
   "cell_type": "code",
   "execution_count": 19,
   "id": "competitive-contents",
   "metadata": {},
   "outputs": [
    {
     "name": "stdout",
     "output_type": "stream",
     "text": [
      "For Theta Waves\n",
      "F3 Power decrease during DB in 04-08Hz range (%) \t = -14.695356329975517 %\n",
      "Fz Power decrease during DB in 04-08Hz range (%) \t = -32.61209176649497 %\n",
      "F4 Power decrease during DB in 04-08Hz range (%) \t = -46.38049108560573 %\n",
      "FC1 Power decrease during DB in 04-08Hz range (%) \t = -20.85173794894736 %\n",
      "FC2 Power decrease during DB in 04-08Hz range (%) \t = -45.715736701411 %\n",
      "C3 Power decrease during DB in 04-08Hz range (%) \t = -25.15714883673198 %\n",
      "C4 Power decrease during DB in 04-08Hz range (%) \t = -45.2253224449229 %\n",
      "CP1 Power decrease during DB in 04-08Hz range (%) \t = -20.44911815476308 %\n",
      "CP2 Power decrease during DB in 04-08Hz range (%) \t = -22.79685289668755 %\n",
      "P3 Power decrease during DB in 04-08Hz range (%) \t = -12.118977696600508 %\n",
      "Pz Power decrease during DB in 04-08Hz range (%) \t = -11.266163985878759 %\n",
      "P4 Power decrease during DB in 04-08Hz range (%) \t = -3.413777217016143 %\n",
      "\n",
      "\n",
      "For Alpha Waves\n",
      "F3 Power decrease during DB in 08-12Hz range (%) \t = -27.172349177440612 %\n",
      "Fz Power decrease during DB in 08-12Hz range (%) \t = -34.07004125932822 %\n",
      "F4 Power decrease during DB in 08-12Hz range (%) \t = -34.00278441907762 %\n",
      "FC1 Power decrease during DB in 08-12Hz range (%) \t = -34.048747187636344 %\n",
      "FC2 Power decrease during DB in 08-12Hz range (%) \t = -46.43069779747027 %\n",
      "C3 Power decrease during DB in 08-12Hz range (%) \t = -54.210731310023355 %\n",
      "C4 Power decrease during DB in 08-12Hz range (%) \t = -67.2100906453679 %\n",
      "CP1 Power decrease during DB in 08-12Hz range (%) \t = -38.61058423671423 %\n",
      "CP2 Power decrease during DB in 08-12Hz range (%) \t = -34.39385336579781 %\n",
      "P3 Power decrease during DB in 08-12Hz range (%) \t = -10.329539622619329 %\n",
      "Pz Power decrease during DB in 08-12Hz range (%) \t = -6.550754979312188 %\n",
      "P4 Power decrease during DB in 08-12Hz range (%) \t = -15.012334335185459 %\n",
      "\n",
      "\n",
      "For Beta Waves\n",
      "F3 Power decrease during DB in 13-30Hz range (%) \t = 3.221048790988908 %\n",
      "Fz Power decrease during DB in 13-30Hz range (%) \t = -19.81157253186135 %\n",
      "F4 Power decrease during DB in 13-30Hz range (%) \t = -38.53633691951328 %\n",
      "FC1 Power decrease during DB in 13-30Hz range (%) \t = -11.395686785728108 %\n",
      "FC2 Power decrease during DB in 13-30Hz range (%) \t = -21.92116019620924 %\n",
      "C3 Power decrease during DB in 13-30Hz range (%) \t = 10.291427892943055 %\n",
      "C4 Power decrease during DB in 13-30Hz range (%) \t = 5.412610017343647 %\n",
      "CP1 Power decrease during DB in 13-30Hz range (%) \t = -16.00780683071671 %\n",
      "CP2 Power decrease during DB in 13-30Hz range (%) \t = -14.356904411958196 %\n",
      "P3 Power decrease during DB in 13-30Hz range (%) \t = 5.935881308385589 %\n",
      "Pz Power decrease during DB in 13-30Hz range (%) \t = 7.3263258340032165 %\n",
      "P4 Power decrease during DB in 13-30Hz range (%) \t = 20.31936398968721 %\n"
     ]
    }
   ],
   "source": [
    "print (\"For Theta Waves\")\n",
    "for i in range (len(motor_elec_name)):\n",
    "    print (motor_elec_name[i],\"Power decrease during DB in 04-08Hz range (%) \\t =\",DB_induced_PSD_change_theta[i],\"%\")\n",
    "print (\"\\n\")\n",
    "\n",
    "print (\"For Alpha Waves\")\n",
    "for i in range (len(motor_elec_name)):\n",
    "    print (motor_elec_name[i],\"Power decrease during DB in 08-12Hz range (%) \\t =\",DB_induced_PSD_change_alpha[i],\"%\")\n",
    "print (\"\\n\")\n",
    "\n",
    "print (\"For Beta Waves\")\n",
    "for i in range (len(motor_elec_name)):\n",
    "    print (motor_elec_name[i],\"Power decrease during DB in 13-30Hz range (%) \\t =\",DB_induced_PSD_change_beta[i],\"%\")"
   ]
  },
  {
   "cell_type": "code",
   "execution_count": 12,
   "id": "hungarian-matthew",
   "metadata": {},
   "outputs": [
    {
     "data": {
      "image/png": "[encoded data removed]",
      "text/plain": [
       "<Figure size 864x720 with 3 Axes>"
      ]
     },
     "metadata": {
      "needs_background": "light"
     },
     "output_type": "display_data"
    }
   ],
   "source": [
    "fig, axes = plt.subplots(nrows=1, ncols=3, figsize=(12, 10))\n",
    "\n",
    "axes[0].boxplot(DB_induced_PSD_change_theta)\n",
    "axes[0].set_ylim([-100, 100])\n",
    "\n",
    "axes[1].boxplot(DB_induced_PSD_change_alpha)\n",
    "axes[1].set_ylim([-100, 100])\n",
    "\n",
    "axes[2].boxplot(DB_induced_PSD_change_beta) \n",
    "axes[2].set_ylim([-100, 100])\n",
    "\n",
    "axes[0].title.set_text('% change Power during DB: Theta')\n",
    "axes[1].title.set_text('% change Power during DB: Alpha')\n",
    "axes[2].title.set_text('% change Power during DB: Beta')\n",
    "plt.show()"
   ]
  },
  {
   "cell_type": "markdown",
   "id": "grateful-edmonton",
   "metadata": {},
   "source": [
    "## Variance during Resting State and Deep Breathing - Alpha range"
   ]
  },
  {
   "cell_type": "code",
   "execution_count": 13,
   "id": "substantial-approval",
   "metadata": {},
   "outputs": [
    {
     "name": "stdout",
     "output_type": "stream",
     "text": [
      "Electrode wise variance in resting state data - alpha waves\n",
      "F3 variance =\t 2.018210601033156\n",
      "Fz variance =\t 3.0844922108108794\n",
      "F4 variance =\t 2.1082799417473876\n",
      "FC1 variance =\t 1.6630073451668845\n",
      "FC2 variance =\t 1.5966255855556812\n",
      "C3 variance =\t 2.4762758113495673\n",
      "C4 variance =\t 3.418957530468148\n",
      "CP1 variance =\t 2.17029451777186\n",
      "CP2 variance =\t 2.1680574503661796\n",
      "P3 variance =\t 5.331956611079622\n",
      "Pz variance =\t 4.5753825621732895\n",
      "P4 variance =\t 12.960084029536546\n",
      "\n",
      "\n",
      "Electrode wise variance in deep breathing data - alpha waves\n",
      "F3 variance =\t 1.1365434771529894\n",
      "Fz variance =\t 1.3374758075126152\n",
      "F4 variance =\t 0.9925747974896172\n",
      "FC1 variance =\t 0.6996237022954136\n",
      "FC2 variance =\t 0.4515166806231178\n",
      "C3 variance =\t 0.43575268584693305\n",
      "C4 variance =\t 0.3448970677342855\n",
      "CP1 variance =\t 0.8209481301630247\n",
      "CP2 variance =\t 1.0850742003421494\n",
      "P3 variance =\t 4.320267898708675\n",
      "Pz variance =\t 4.861251785438727\n",
      "P4 variance =\t 9.712088692280995\n",
      "\n",
      "\n"
     ]
    },
    {
     "data": {
      "image/png": "[encoded data removed]",
      "text/plain": [
       "<Figure size 864x720 with 2 Axes>"
      ]
     },
     "metadata": {
      "needs_background": "light"
     },
     "output_type": "display_data"
    }
   ],
   "source": [
    "print (\"Electrode wise variance in resting state data - alpha waves\")\n",
    "for i in range (len(motor_elec_name)):\n",
    "    print (motor_elec_name[i],\"variance =\\t\",RS_variance_alpha[i])\n",
    "print (\"\\n\")\n",
    "\n",
    "print (\"Electrode wise variance in deep breathing data - alpha waves\")\n",
    "for i in range (len(motor_elec_name)):\n",
    "    print (motor_elec_name[i],\"variance =\\t\",DB_variance_alpha[i])\n",
    "print (\"\\n\")\n",
    "\n",
    "fig, axes = plt.subplots(nrows=1, ncols=2, figsize=(12, 10))\n",
    "\n",
    "axes[0].boxplot(RS_variance_alpha)\n",
    "axes[0].set_ylim([0, 10])\n",
    "\n",
    "axes[1].boxplot(DB_variance_alpha) \n",
    "axes[1].set_ylim([0, 10])\n",
    "\n",
    "axes[0].title.set_text('Variance in Resting State data - Alpha waves')\n",
    "axes[1].title.set_text('Variance during Deep Breathing - Alpha waves')\n",
    "plt.show()"
   ]
  },
  {
   "cell_type": "markdown",
   "id": "metric-webster",
   "metadata": {},
   "source": [
    "## Variance during Resting State and Deep Breathing - Beta range"
   ]
  },
  {
   "cell_type": "code",
   "execution_count": 14,
   "id": "sustainable-delicious",
   "metadata": {},
   "outputs": [
    {
     "name": "stdout",
     "output_type": "stream",
     "text": [
      "Electrode wise variance in resting state data - beta waves\n",
      "F3 variance =\t 0.08048649683986941\n",
      "Fz variance =\t 0.09084230168518516\n",
      "F4 variance =\t 0.0913932552006382\n",
      "FC1 variance =\t 0.055342673754292276\n",
      "FC2 variance =\t 0.05238810226798486\n",
      "C3 variance =\t 0.03908883611660063\n",
      "C4 variance =\t 0.05506822351753666\n",
      "CP1 variance =\t 0.039271838545478235\n",
      "CP2 variance =\t 0.03800320693358139\n",
      "P3 variance =\t 0.10544916405982226\n",
      "Pz variance =\t 0.07037546447330482\n",
      "P4 variance =\t 0.10967164676639816\n",
      "\n",
      "\n",
      "Electrode wise variance in deep breathing data - beta waves\n",
      "F3 variance =\t 0.08225235796098879\n",
      "Fz variance =\t 0.05552567228788529\n",
      "F4 variance =\t 0.036393556208697\n",
      "FC1 variance =\t 0.04201188031535526\n",
      "FC2 variance =\t 0.03024918609367113\n",
      "C3 variance =\t 0.03738867475433536\n",
      "C4 variance =\t 0.05845990652612956\n",
      "CP1 variance =\t 0.026018604613635695\n",
      "CP2 variance =\t 0.027950635398214914\n",
      "P3 variance =\t 0.10711005748733374\n",
      "Pz variance =\t 0.10071397787779268\n",
      "P4 variance =\t 0.18961308489191414\n",
      "\n",
      "\n"
     ]
    },
    {
     "data": {
      "image/png": "[encoded data removed]",
      "text/plain": [
       "<Figure size 864x720 with 2 Axes>"
      ]
     },
     "metadata": {
      "needs_background": "light"
     },
     "output_type": "display_data"
    }
   ],
   "source": [
    "print (\"Electrode wise variance in resting state data - beta waves\")\n",
    "for i in range (len(motor_elec_name)):\n",
    "    print (motor_elec_name[i],\"variance =\\t\",RS_variance_beta[i])\n",
    "print (\"\\n\")\n",
    "\n",
    "print (\"Electrode wise variance in deep breathing data - beta waves\")\n",
    "for i in range (len(motor_elec_name)):\n",
    "    print (motor_elec_name[i],\"variance =\\t\",DB_variance_beta[i])\n",
    "print (\"\\n\")\n",
    "\n",
    "fig, axes = plt.subplots(nrows=1, ncols=2, figsize=(12, 10))\n",
    "\n",
    "axes[0].boxplot(RS_variance_beta)\n",
    "axes[0].set_ylim([0, 1])\n",
    "\n",
    "axes[1].boxplot(DB_variance_beta) \n",
    "axes[1].set_ylim([0, 1])\n",
    "\n",
    "axes[0].title.set_text('Variance in Resting State data - Beta waves')\n",
    "axes[1].title.set_text('Variance during Deep Breathing - Beta waves')\n",
    "plt.show()"
   ]
  },
  {
   "cell_type": "markdown",
   "id": "wanted-crack",
   "metadata": {},
   "source": [
    "## Variance during Resting State and Deep Breathing - Theta range"
   ]
  },
  {
   "cell_type": "code",
   "execution_count": 15,
   "id": "sporting-catering",
   "metadata": {},
   "outputs": [
    {
     "name": "stdout",
     "output_type": "stream",
     "text": [
      "Electrode wise variance in resting state data - theta waves\n",
      "F3 variance =\t 0.9448934520690923\n",
      "Fz variance =\t 1.6097421830946708\n",
      "F4 variance =\t 0.9939137381021919\n",
      "FC1 variance =\t 1.1220000106590173\n",
      "FC2 variance =\t 0.9593751657053109\n",
      "C3 variance =\t 0.24937043871609588\n",
      "C4 variance =\t 0.2889026416814783\n",
      "CP1 variance =\t 0.38953507704269863\n",
      "CP2 variance =\t 0.47122839682535694\n",
      "P3 variance =\t 0.467042950407877\n",
      "Pz variance =\t 0.5979673303555084\n",
      "P4 variance =\t 0.576085755375441\n",
      "\n",
      "\n",
      "Electrode wise variance in deep breathing data - theta waves\n",
      "F3 variance =\t 0.6528369186350282\n",
      "Fz variance =\t 0.6551006708184336\n",
      "F4 variance =\t 0.27479194784647887\n",
      "FC1 variance =\t 0.6572183969950179\n",
      "FC2 variance =\t 0.27476046775262103\n",
      "C3 variance =\t 0.15833104072757723\n",
      "C4 variance =\t 0.09985051768948809\n",
      "CP1 variance =\t 0.2627717215072529\n",
      "CP2 variance =\t 0.27220094175193427\n",
      "P3 variance =\t 0.4010720643963942\n",
      "Pz variance =\t 0.535291335976624\n",
      "P4 variance =\t 0.5682596514528419\n",
      "\n",
      "\n"
     ]
    },
    {
     "data": {
      "image/png": "[encoded data removed]",
      "text/plain": [
       "<Figure size 864x720 with 2 Axes>"
      ]
     },
     "metadata": {
      "needs_background": "light"
     },
     "output_type": "display_data"
    }
   ],
   "source": [
    "print (\"Electrode wise variance in resting state data - theta waves\")\n",
    "for i in range (len(motor_elec_name)):\n",
    "    print (motor_elec_name[i],\"variance =\\t\",RS_variance_theta[i])\n",
    "print (\"\\n\")\n",
    "\n",
    "print (\"Electrode wise variance in deep breathing data - theta waves\")\n",
    "for i in range (len(motor_elec_name)):\n",
    "    print (motor_elec_name[i],\"variance =\\t\",DB_variance_theta[i])\n",
    "print (\"\\n\")\n",
    "\n",
    "fig, axes = plt.subplots(nrows=1, ncols=2, figsize=(12, 10))\n",
    "\n",
    "axes[0].boxplot(RS_variance_theta)\n",
    "axes[0].set_ylim([0, 5])\n",
    "\n",
    "axes[1].boxplot(DB_variance_theta) \n",
    "axes[1].set_ylim([0, 5])\n",
    "\n",
    "axes[0].title.set_text('Variance in Resting State data - theta waves')\n",
    "axes[1].title.set_text('Variance during Deep Breathing - theta waves')\n",
    "plt.show()"
   ]
  },
  {
   "cell_type": "code",
   "execution_count": null,
   "id": "geological-possession",
   "metadata": {},
   "outputs": [],
   "source": []
  }
 ],
 "metadata": {
  "kernelspec": {
   "display_name": "Python 3",
   "language": "python",
   "name": "python3"
  },
  "language_info": {
   "codemirror_mode": {
    "name": "ipython",
    "version": 3
   },
   "file_extension": ".py",
   "mimetype": "text/x-python",
   "name": "python",
   "nbconvert_exporter": "python",
   "pygments_lexer": "ipython3",
   "version": "3.7.6"
  }
 },
 "nbformat": 4,
 "nbformat_minor": 5
}
