{
 "cells": [
  {
   "cell_type": "markdown",
   "id": "civil-friend",
   "metadata": {},
   "source": [
    "# Clustering based classification - Resting State v/s Deep Breathing EEG"
   ]
  },
  {
   "cell_type": "code",
   "execution_count": 47,
   "id": "genetic-delight",
   "metadata": {},
   "outputs": [],
   "source": [
    "import numpy as np\n",
    "import math\n",
    "import random\n",
    "import matplotlib.pyplot as plt\n",
    "from scipy import signal\n",
    "from fastdtw import fastdtw\n",
    "from scipy.spatial.distance import euclidean\n",
    "from sklearn.cluster import KMeans\n",
    "from scipy.spatial import distance\n",
    "import time\n",
    "from progressbar import progressbar"
   ]
  },
  {
   "cell_type": "code",
   "execution_count": 86,
   "id": "classical-composer",
   "metadata": {},
   "outputs": [],
   "source": [
    "no_of_train_subject = 23\n",
    "no_of_test_subject = 6\n",
    "elec_name = [\"Time\", \"F3\",\"Fz\",\"F4\",\"FC1\",\"FC2\",\"C3\",\"C4\",\"CP1\",\"CP2\"]\n",
    "no_of_clusters = 9"
   ]
  },
  {
   "cell_type": "code",
   "execution_count": 49,
   "id": "grand-gabriel",
   "metadata": {},
   "outputs": [],
   "source": [
    "#source_file_RS = '../dataset/Merged_RS_Rejected.txt' #7501 EEG states per subject\n",
    "#source_file_DB = '../dataset/Merged_DB_Rejected.txt' #7501 EEG states per subject\n",
    "\n",
    "source_file_RS = '../dataset/RS_filter.txt'\n",
    "source_file_DB = '../dataset/DB_filter.txt'"
   ]
  },
  {
   "cell_type": "code",
   "execution_count": 50,
   "id": "medium-enclosure",
   "metadata": {},
   "outputs": [],
   "source": [
    "Time_a, Fp1_a, Fz_a, F3_a, F7_a, FT9_a, FC5_a, FC1_a, C3_a, T7_a, TP9_a, CP5_a, CP1_a, Pz_a, P3_a, P7_a, O1_a, Oz_a, O2_a, P4_a, P8_a, TP10_a, CP6_a, CP2_a, C4_a, T8_a, FT10_a, FC6_a, FC2_a, F4_a, F8_a, Fp2_a = np.loadtxt( \n",
    "    source_file_RS, \n",
    "    skiprows = 1, #If top title row present\n",
    "    unpack = True)\n",
    "Time_b, Fp1_b, Fz_b, F3_b, F7_b, FT9_b, FC5_b, FC1_b, C3_b, T7_b, TP9_b, CP5_b, CP1_b, Pz_b, P3_b, P7_b, O1_b, Oz_b, O2_b, P4_b, P8_b, TP10_b, CP6_b, CP2_b, C4_b, T8_b, FT10_b, FC6_b, FC2_b, F4_b, F8_b, Fp2_b = np.loadtxt( \n",
    "    source_file_DB,\n",
    "    skiprows = 1, #If top title row present\n",
    "    unpack = True)"
   ]
  },
  {
   "cell_type": "code",
   "execution_count": 51,
   "id": "handled-snake",
   "metadata": {},
   "outputs": [],
   "source": [
    "elec_1_mat = np.stack((Time_a, F3_a, Fz_a, F4_a, FC1_a, FC2_a, C3_a, C4_a, CP1_a, CP2_a))\n",
    "elec_2_mat = np.stack((Time_b, F3_b, Fz_b, F4_b, FC1_b, FC2_b, C3_b, C4_b, CP1_b, CP2_b))"
   ]
  },
  {
   "cell_type": "markdown",
   "id": "willing-brighton",
   "metadata": {},
   "source": [
    "## Adding values from Resting state for training & testing"
   ]
  },
  {
   "cell_type": "code",
   "execution_count": 6,
   "id": "functioning-northwest",
   "metadata": {},
   "outputs": [
    {
     "name": "stderr",
     "output_type": "stream",
     "text": [
      "100% (23 of 23) |########################| Elapsed Time: 0:14:17 Time:  0:14:17\n",
      "100% (6 of 6) |##########################| Elapsed Time: 0:00:27 Time:  0:00:27\n"
     ]
    }
   ],
   "source": [
    "training_mat_RS = np.zeros(shape=((7501*no_of_train_subject), (len(elec_name)-1)))\n",
    "testing_mat_RS = np.zeros(shape=((7501*no_of_test_subject), (len(elec_name)-1)))\n",
    "\n",
    "#Creating the resting state training matrix\n",
    "for training in progressbar(range (no_of_train_subject)):\n",
    "    for eeg_data in range (7501):\n",
    "        eeg_state = np.array([])\n",
    "        \n",
    "        for i in range (1,len(elec_name)):\n",
    "            eeg_state = np.append(eeg_state, elec_1_mat[i][eeg_data + (7501*training)])\n",
    "     \n",
    "        training_mat_RS = np.delete(training_mat_RS, (0), axis=0)#Make space cause using stack\n",
    "        training_mat_RS = np.append(training_mat_RS,[eeg_state],axis= 0)\n",
    "\n",
    "#Creating the resting state testing matrix\n",
    "for testing in progressbar(range (no_of_test_subject)):\n",
    "    for eeg_data in range (7501):\n",
    "        eeg_state = np.array([])\n",
    "        \n",
    "        for i in range (1,len(elec_name)):\n",
    "            eeg_state = np.append(eeg_state, elec_1_mat[i][eeg_data + (7501*(no_of_train_subject+testing))])\n",
    "     \n",
    "        testing_mat_RS = np.delete(testing_mat_RS, (0), axis=0)#Make space cause using stack\n",
    "        testing_mat_RS = np.append(testing_mat_RS,[eeg_state],axis= 0)"
   ]
  },
  {
   "cell_type": "code",
   "execution_count": 52,
   "id": "useful-parameter",
   "metadata": {},
   "outputs": [
    {
     "name": "stdout",
     "output_type": "stream",
     "text": [
      "[[ 4.5576  4.148   2.2371 ...  0.02    0.5762 -2.1798]\n",
      " [ 4.5062  4.1746  2.2779 ... -0.1713  0.2835 -2.0773]\n",
      " [ 4.4014  4.1558  2.2934 ... -0.3483 -0.013  -1.9466]\n",
      " ...\n",
      " [-1.6024 -1.1219  0.2574 ...  0.0396 -1.3971 -0.3723]\n",
      " [-1.5881 -1.2278  0.0451 ... -0.0192 -1.3504 -0.3348]\n",
      " [-1.5629 -1.3218 -0.1619 ... -0.0811 -1.294  -0.2997]]\n",
      "(172523, 9)\n",
      "\n",
      "\n",
      "[[-1.2427 -2.0707 -1.4615 ... -2.4415 -1.6264 -0.4128]\n",
      " [-1.1285 -1.9197 -1.5092 ... -2.5059 -1.4007 -0.5299]\n",
      " [-0.981  -1.724  -1.5236 ... -2.5469 -1.1582 -0.6457]\n",
      " ...\n",
      " [-0.0627  0.3412  0.7512 ... -0.8533  1.0798  0.3232]\n",
      " [-0.3371 -0.0115  0.6338 ... -0.3403  0.8194  0.2089]\n",
      " [-0.594  -0.3454  0.5193 ...  0.1764  0.5557  0.1092]]\n",
      "(45006, 9)\n"
     ]
    }
   ],
   "source": [
    "print (training_mat_RS)\n",
    "print (training_mat_RS.shape)\n",
    "print (\"\\n\")\n",
    "print (testing_mat_RS)\n",
    "print (testing_mat_RS.shape)"
   ]
  },
  {
   "cell_type": "markdown",
   "id": "answering-planet",
   "metadata": {},
   "source": [
    "## Adding values from Deep Breathing for training & testing"
   ]
  },
  {
   "cell_type": "code",
   "execution_count": 7,
   "id": "lightweight-integral",
   "metadata": {},
   "outputs": [
    {
     "name": "stderr",
     "output_type": "stream",
     "text": [
      "100% (23 of 23) |########################| Elapsed Time: 0:13:32 Time:  0:13:32\n",
      "100% (6 of 6) |##########################| Elapsed Time: 0:00:24 Time:  0:00:24\n"
     ]
    }
   ],
   "source": [
    "training_mat_DB = np.zeros(shape=((7501*no_of_train_subject), (len(elec_name)-1)))\n",
    "testing_mat_DB = np.zeros(shape=((7501*no_of_test_subject), (len(elec_name)-1)))\n",
    "\n",
    "#print (\"Creating the deep breathing training matrix\")\n",
    "for training in progressbar(range (no_of_train_subject)):\n",
    "    for eeg_data in range (7501):\n",
    "        eeg_state = np.array([])\n",
    "        \n",
    "        for i in range (1,len(elec_name)):\n",
    "            eeg_state = np.append(eeg_state, elec_2_mat[i][eeg_data + (7501*training)])\n",
    "     \n",
    "        training_mat_DB = np.delete(training_mat_DB, (0), axis=0)#Make space cause using stack\n",
    "        training_mat_DB = np.append(training_mat_DB,[eeg_state],axis= 0)\n",
    "\n",
    "#print (\"Creating the deep breathing testing matrix\")        \n",
    "for testing in progressbar(range (no_of_test_subject)):\n",
    "    for eeg_data in range (7501):\n",
    "        eeg_state = np.array([])\n",
    "        \n",
    "        for i in range (1,len(elec_name)):\n",
    "            eeg_state = np.append(eeg_state, elec_2_mat[i][eeg_data + (7501*(no_of_train_subject+testing))])\n",
    "     \n",
    "        testing_mat_DB = np.delete(testing_mat_DB, (0), axis=0)#Make space cause using stack\n",
    "        testing_mat_DB = np.append(testing_mat_DB,[eeg_state],axis= 0)"
   ]
  },
  {
   "cell_type": "code",
   "execution_count": 53,
   "id": "recreational-acrobat",
   "metadata": {},
   "outputs": [
    {
     "name": "stdout",
     "output_type": "stream",
     "text": [
      "[[-0.2903 -1.6875 -0.8463 ... -1.2129 -2.5774 -2.2581]\n",
      " [-0.4044 -1.7091 -0.8623 ... -1.0171 -2.4313 -2.0698]\n",
      " [-0.5132 -1.7158 -0.8736 ... -0.7886 -2.2547 -1.8503]\n",
      " ...\n",
      " [-2.1622 -1.5517 -1.0934 ...  0.5436  0.8859  1.0613]\n",
      " [-2.2056 -1.6561 -1.1939 ...  0.4355  0.7919  0.9739]\n",
      " [-2.2286 -1.7409 -1.2843 ...  0.3319  0.7086  0.8929]]\n",
      "(172523, 9)\n",
      "\n",
      "\n",
      "[[-0.519  -0.6456  0.049  ... -0.6515 -1.975  -1.5591]\n",
      " [-0.5353 -0.6268  0.0929 ... -0.7335 -2.0547 -1.7227]\n",
      " [-0.5513 -0.5985  0.1445 ... -0.8096 -2.1229 -1.8727]\n",
      " ...\n",
      " [-3.9314 -3.7511 -2.422  ... -1.0754  0.3369  0.8111]\n",
      " [-3.8149 -3.5907 -2.1473 ... -0.9859  0.0047  0.7802]\n",
      " [-3.6721 -3.4191 -1.8739 ... -0.901  -0.3254  0.7263]]\n",
      "(45006, 9)\n"
     ]
    }
   ],
   "source": [
    "print (training_mat_DB)\n",
    "print (training_mat_DB.shape)\n",
    "print (\"\\n\")\n",
    "print (testing_mat_DB)\n",
    "print (testing_mat_DB.shape)"
   ]
  },
  {
   "cell_type": "code",
   "execution_count": 54,
   "id": "tight-island",
   "metadata": {},
   "outputs": [],
   "source": [
    "training_mat = np.concatenate((training_mat_RS, training_mat_DB))\n",
    "testing_mat = np.concatenate((testing_mat_RS, testing_mat_DB))"
   ]
  },
  {
   "cell_type": "markdown",
   "id": "referenced-overall",
   "metadata": {},
   "source": [
    "## Running Kmeans using (2) cluster based methods"
   ]
  },
  {
   "cell_type": "code",
   "execution_count": 55,
   "id": "choice-bermuda",
   "metadata": {},
   "outputs": [],
   "source": [
    "kmeans = KMeans(n_clusters=2, random_state=0)\n",
    "km = kmeans.fit_predict(training_mat)"
   ]
  },
  {
   "cell_type": "code",
   "execution_count": 56,
   "id": "commercial-triangle",
   "metadata": {},
   "outputs": [
    {
     "name": "stdout",
     "output_type": "stream",
     "text": [
      "Training accuracy of RS =  49.91798195023272 %\n",
      "Training accuracy of DB =  49.961454414773684 %\n"
     ]
    }
   ],
   "source": [
    "count_zero = 0\n",
    "for i in range (7501*no_of_train_subject):\n",
    "    if (km[i] == 0):\n",
    "        count_zero = count_zero + 1\n",
    "        \n",
    "training_acc_RS = (count_zero/(7501*no_of_train_subject)) * 100\n",
    "print (\"Training accuracy of RS = \",training_acc_RS,\"%\")\n",
    "\n",
    "count_one = 0\n",
    "for i in range (7501*no_of_train_subject, len(km)):\n",
    "    if (km[i] == 1):\n",
    "        count_one = count_one + 1\n",
    "        \n",
    "training_acc_DB = (count_one/(7501*no_of_train_subject)) * 100\n",
    "print (\"Training accuracy of DB = \",training_acc_DB,\"%\")"
   ]
  },
  {
   "cell_type": "code",
   "execution_count": 57,
   "id": "informational-disco",
   "metadata": {},
   "outputs": [
    {
     "name": "stdout",
     "output_type": "stream",
     "text": [
      "Testing accuracy of RS =  50.553259565391286 %\n",
      "Testing accuracy of DB =  50.248855708127806 %\n"
     ]
    }
   ],
   "source": [
    "testing_RS_count = 0\n",
    "centroid = kmeans.cluster_centers_\n",
    "for i in range (7501*no_of_test_subject):\n",
    "    distance2rs = distance.euclidean(centroid[0], testing_mat_RS[i])  \n",
    "    distance2db = distance.euclidean(centroid[1], testing_mat_RS[i])\n",
    "    \n",
    "    if (distance2rs <= distance2db):\n",
    "        testing_RS_count = testing_RS_count + 1\n",
    "\n",
    "testing_acc_RS = (testing_RS_count/(7501*no_of_test_subject) * 100)\n",
    "print (\"Testing accuracy of RS = \",testing_acc_RS,\"%\")\n",
    "\n",
    "testing_DB_count = 0\n",
    "centroid = kmeans.cluster_centers_\n",
    "for i in range (7501*no_of_test_subject):\n",
    "    distance2rs = distance.euclidean(centroid[0], testing_mat_DB[i])\n",
    "    distance2db = distance.euclidean(centroid[1], testing_mat_DB[i])    \n",
    "    \n",
    "    if (distance2db <= distance2rs):\n",
    "        testing_DB_count = testing_DB_count + 1\n",
    "\n",
    "testing_acc_DB = (testing_DB_count/(7501*no_of_test_subject) * 100)\n",
    "print (\"Testing accuracy of DB = \",testing_acc_DB,\"%\")"
   ]
  },
  {
   "cell_type": "markdown",
   "id": "collaborative-identity",
   "metadata": {},
   "source": [
    "## Multiple Microstate based classification"
   ]
  },
  {
   "cell_type": "code",
   "execution_count": 92,
   "id": "varying-sunday",
   "metadata": {},
   "outputs": [
    {
     "name": "stderr",
     "output_type": "stream",
     "text": [
      "100% (9 of 9) |##########################| Elapsed Time: 0:01:37 Time:  0:01:37\n"
     ]
    }
   ],
   "source": [
    "testing_acc = np.zeros(no_of_clusters)\n",
    "y_axis_testing_acc = np.zeros(no_of_clusters)\n",
    "\n",
    "for no_of_micro_clusters in progressbar(range (1,no_of_clusters+1)):\n",
    "    kmeans = KMeans(n_clusters=no_of_micro_clusters, random_state=0)\n",
    "    km = kmeans.fit_predict(training_mat_RS)\n",
    "    centroid_RS = kmeans.cluster_centers_\n",
    "\n",
    "    kmeans = KMeans(n_clusters=no_of_micro_clusters, random_state=0)\n",
    "    km = kmeans.fit_predict(training_mat_DB)\n",
    "    centroid_DB = kmeans.cluster_centers_\n",
    "    \n",
    "    \n",
    "    testing_DB_count = 0\n",
    "    micro_distance2rs = np.zeros(no_of_micro_clusters)\n",
    "    micro_distsnce2db = np.zeros(no_of_micro_clusters)\n",
    "\n",
    "    for i in range (7501*no_of_test_subject):\n",
    "        for j in range (no_of_micro_clusters):\n",
    "            micro_distance2rs[j] = distance.euclidean(centroid_RS[j], testing_mat_DB[i])\n",
    "\n",
    "        for j in range (no_of_micro_clusters):\n",
    "            micro_distsnce2db[j] = distance.euclidean(centroid_DB[j], testing_mat_DB[i])\n",
    "\n",
    "        min_d2rs = min (micro_distance2rs)\n",
    "        min_d2db = min (micro_distsnce2db)\n",
    "\n",
    "        if (min_d2db <= min_d2rs):\n",
    "            testing_DB_count = testing_DB_count + 1\n",
    "\n",
    "    testing_acc[no_of_micro_clusters-1] = ((testing_DB_count)/(7501*no_of_test_subject)) * 100\n",
    "    y_axis_testing_acc[no_of_micro_clusters-1] = no_of_micro_clusters"
   ]
  },
  {
   "cell_type": "code",
   "execution_count": 95,
   "id": "undefined-narrative",
   "metadata": {},
   "outputs": [
    {
     "name": "stdout",
     "output_type": "stream",
     "text": [
      "Clustering training RS and DB into [ 1 ] microstates each. Test classification accuracy = 49.71559347642537 %\n",
      "Clustering training RS and DB into [ 2 ] microstates each. Test classification accuracy = 63.847042616540016 %\n",
      "Clustering training RS and DB into [ 3 ] microstates each. Test classification accuracy = 57.22570323956806 %\n",
      "Clustering training RS and DB into [ 4 ] microstates each. Test classification accuracy = 65.28907256810203 %\n",
      "Clustering training RS and DB into [ 5 ] microstates each. Test classification accuracy = 63.1915744567391 %\n",
      "Clustering training RS and DB into [ 6 ] microstates each. Test classification accuracy = 63.72928054037239 %\n",
      "Clustering training RS and DB into [ 7 ] microstates each. Test classification accuracy = 64.24254543838599 %\n",
      "Clustering training RS and DB into [ 8 ] microstates each. Test classification accuracy = 65.00688797049283 %\n",
      "Clustering training RS and DB into [ 9 ] microstates each. Test classification accuracy = 64.8069146336044 %\n"
     ]
    },
    {
     "data": {
      "text/plain": [
       "Text(0.5, 1.0, 'Deep Breathing Classification Accuracy')"
      ]
     },
     "execution_count": 95,
     "metadata": {},
     "output_type": "execute_result"
    },
    {
     "data": {
      "image/png": "[encoded data removed]",
      "text/plain": [
       "<Figure size 432x288 with 1 Axes>"
      ]
     },
     "metadata": {
      "needs_background": "light"
     },
     "output_type": "display_data"
    }
   ],
   "source": [
    "for i in range (no_of_clusters):   \n",
    "    print (\"Clustering training RS and DB into [\",i+1,\"] microstates each. Test classification accuracy =\",testing_acc[i],\"%\")\n",
    "\n",
    "plt.plot(y_axis_testing_acc, testing_acc)\n",
    "plt.xlabel('Number of Clusters in RS and DB datasets each')\n",
    "plt.ylabel('Accuracy (%)')\n",
    "plt.title('Deep Breathing Classification Accuracy')"
   ]
  },
  {
   "cell_type": "code",
   "execution_count": null,
   "id": "radical-hampshire",
   "metadata": {},
   "outputs": [],
   "source": []
  }
 ],
 "metadata": {
  "kernelspec": {
   "display_name": "Python 3",
   "language": "python",
   "name": "python3"
  },
  "language_info": {
   "codemirror_mode": {
    "name": "ipython",
    "version": 3
   },
   "file_extension": ".py",
   "mimetype": "text/x-python",
   "name": "python",
   "nbconvert_exporter": "python",
   "pygments_lexer": "ipython3",
   "version": "3.7.6"
  }
 },
 "nbformat": 4,
 "nbformat_minor": 5
}
