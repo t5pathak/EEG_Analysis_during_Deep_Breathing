{
 "cells": [
  {
   "cell_type": "markdown",
   "id": "civil-friend",
   "metadata": {},
   "source": [
    "# Clustering based classification - Resting State v/s Deep Breathing EEG"
   ]
  },
  {
   "cell_type": "code",
   "execution_count": 1,
   "id": "genetic-delight",
   "metadata": {},
   "outputs": [],
   "source": [
    "import numpy as np\n",
    "import math\n",
    "import random\n",
    "import matplotlib.pyplot as plt\n",
    "from scipy import signal\n",
    "from fastdtw import fastdtw\n",
    "from scipy.spatial.distance import euclidean\n",
    "from sklearn.cluster import KMeans\n",
    "from scipy.spatial import distance\n",
    "import time\n",
    "from progressbar import progressbar"
   ]
  },
  {
   "cell_type": "code",
   "execution_count": 2,
   "id": "classical-composer",
   "metadata": {},
   "outputs": [],
   "source": [
    "no_of_train_subject = 23\n",
    "no_of_test_subject = 6\n",
    "elec_name = [\"Time\", \"F3\",\"Fz\",\"F4\",\"FC1\",\"FC2\",\"C3\",\"C4\",\"CP1\",\"CP2\"]"
   ]
  },
  {
   "cell_type": "code",
   "execution_count": 3,
   "id": "grand-gabriel",
   "metadata": {},
   "outputs": [],
   "source": [
    "#source_file_RS = '../dataset/Merged_RS_Rejected.txt' #7501 EEG states per subject\n",
    "#source_file_DB = '../dataset/Merged_DB_Rejected.txt' #7501 EEG states per subject\n",
    "\n",
    "source_file_RS = '../dataset/RS_filter.txt'\n",
    "source_file_DB = '../dataset/DB_filter.txt'"
   ]
  },
  {
   "cell_type": "code",
   "execution_count": 4,
   "id": "medium-enclosure",
   "metadata": {},
   "outputs": [],
   "source": [
    "Time_a, Fp1_a, Fz_a, F3_a, F7_a, FT9_a, FC5_a, FC1_a, C3_a, T7_a, TP9_a, CP5_a, CP1_a, Pz_a, P3_a, P7_a, O1_a, Oz_a, O2_a, P4_a, P8_a, TP10_a, CP6_a, CP2_a, C4_a, T8_a, FT10_a, FC6_a, FC2_a, F4_a, F8_a, Fp2_a = np.loadtxt( \n",
    "    source_file_RS, \n",
    "    skiprows = 1, #If top title row present\n",
    "    unpack = True)\n",
    "Time_b, Fp1_b, Fz_b, F3_b, F7_b, FT9_b, FC5_b, FC1_b, C3_b, T7_b, TP9_b, CP5_b, CP1_b, Pz_b, P3_b, P7_b, O1_b, Oz_b, O2_b, P4_b, P8_b, TP10_b, CP6_b, CP2_b, C4_b, T8_b, FT10_b, FC6_b, FC2_b, F4_b, F8_b, Fp2_b = np.loadtxt( \n",
    "    source_file_DB,\n",
    "    skiprows = 1, #If top title row present\n",
    "    unpack = True)"
   ]
  },
  {
   "cell_type": "code",
   "execution_count": 5,
   "id": "handled-snake",
   "metadata": {},
   "outputs": [],
   "source": [
    "elec_1_mat = np.stack((Time_a, F3_a, Fz_a, F4_a, FC1_a, FC2_a, C3_a, C4_a, CP1_a, CP2_a))\n",
    "elec_2_mat = np.stack((Time_b, F3_b, Fz_b, F4_b, FC1_b, FC2_b, C3_b, C4_b, CP1_b, CP2_b))"
   ]
  },
  {
   "cell_type": "markdown",
   "id": "willing-brighton",
   "metadata": {},
   "source": [
    "## Adding values from Resting state for training & testing"
   ]
  },
  {
   "cell_type": "code",
   "execution_count": 6,
   "id": "functioning-northwest",
   "metadata": {},
   "outputs": [
    {
     "name": "stderr",
     "output_type": "stream",
     "text": [
      "100% (2 of 2) |##########################| Elapsed Time: 0:00:05 Time:  0:00:05\n",
      "100% (1 of 1) |##########################| Elapsed Time: 0:00:02 Time:  0:00:02\n"
     ]
    }
   ],
   "source": [
    "training_mat_RS = np.zeros(shape=((7501*no_of_train_subject), (len(elec_name)-1)))\n",
    "testing_mat_RS = np.zeros(shape=((7501*no_of_test_subject), (len(elec_name)-1)))\n",
    "\n",
    "#Creating the resting state training matrix\n",
    "for training in progressbar(range (no_of_train_subject)):\n",
    "    for eeg_data in range (7501):\n",
    "        eeg_state = np.array([])\n",
    "        \n",
    "        for i in range (1,len(elec_name)):\n",
    "            eeg_state = np.append(eeg_state, elec_1_mat[i][eeg_data + (7501*training)])\n",
    "     \n",
    "        training_mat_RS = np.delete(training_mat_RS, (0), axis=0)#Make space cause using stack\n",
    "        training_mat_RS = np.append(training_mat_RS,[eeg_state],axis= 0)\n",
    "\n",
    "#Creating the resting state testing matrix\n",
    "for testing in progressbar(range (no_of_test_subject)):\n",
    "    for eeg_data in range (7501):\n",
    "        eeg_state = np.array([])\n",
    "        \n",
    "        for i in range (1,len(elec_name)):\n",
    "            eeg_state = np.append(eeg_state, elec_1_mat[i][eeg_data + (7501*(no_of_train_subject+testing))])\n",
    "     \n",
    "        testing_mat_RS = np.delete(testing_mat_RS, (0), axis=0)#Make space cause using stack\n",
    "        testing_mat_RS = np.append(testing_mat_RS,[eeg_state],axis= 0)"
   ]
  },
  {
   "cell_type": "code",
   "execution_count": 7,
   "id": "useful-parameter",
   "metadata": {},
   "outputs": [
    {
     "name": "stdout",
     "output_type": "stream",
     "text": [
      "[[ 4.5576  4.148   2.2371 ...  0.02    0.5762 -2.1798]\n",
      " [ 4.5062  4.1746  2.2779 ... -0.1713  0.2835 -2.0773]\n",
      " [ 4.4014  4.1558  2.2934 ... -0.3483 -0.013  -1.9466]\n",
      " ...\n",
      " [ 1.2177  0.5774  0.5942 ...  1.1581  0.1841  1.5228]\n",
      " [ 0.8566  0.3271  0.5353 ...  1.1569  0.1824  1.5063]\n",
      " [ 0.5106  0.0951  0.485  ...  1.1452  0.1895  1.4893]]\n",
      "(15002, 9)\n",
      "\n",
      "\n",
      "[[ 1.2992  2.9357  1.3567 ...  1.5768  1.1761  1.4176]\n",
      " [ 1.2701  2.8841  1.3502 ...  1.4801  1.1157  1.3198]\n",
      " [ 1.2278  2.8037  1.3179 ...  1.3585  1.043   1.2042]\n",
      " ...\n",
      " [-0.9511 -1.4569 -1.9529 ...  1.3979  3.716  -0.0743]\n",
      " [-0.4804 -1.1439 -1.9372 ...  1.0942  3.7419 -0.156 ]\n",
      " [-0.0326 -0.8302 -1.9101 ...  0.7814  3.7351 -0.224 ]]\n",
      "(7501, 9)\n"
     ]
    }
   ],
   "source": [
    "print (training_mat_RS)\n",
    "print (training_mat_RS.shape)\n",
    "print (\"\\n\")\n",
    "print (testing_mat_RS)\n",
    "print (testing_mat_RS.shape)"
   ]
  },
  {
   "cell_type": "markdown",
   "id": "answering-planet",
   "metadata": {},
   "source": [
    "## Adding values from Deep Breathing for training & testing"
   ]
  },
  {
   "cell_type": "code",
   "execution_count": 8,
   "id": "lightweight-integral",
   "metadata": {},
   "outputs": [
    {
     "name": "stderr",
     "output_type": "stream",
     "text": [
      "100% (2 of 2) |##########################| Elapsed Time: 0:00:03 Time:  0:00:03\n",
      "100% (1 of 1) |##########################| Elapsed Time: 0:00:01 Time:  0:00:01\n"
     ]
    }
   ],
   "source": [
    "training_mat_DB = np.zeros(shape=((7501*no_of_train_subject), (len(elec_name)-1)))\n",
    "testing_mat_DB = np.zeros(shape=((7501*no_of_test_subject), (len(elec_name)-1)))\n",
    "\n",
    "#print (\"Creating the deep breathing training matrix\")\n",
    "for training in progressbar(range (no_of_train_subject)):\n",
    "    for eeg_data in range (7501):\n",
    "        eeg_state = np.array([])\n",
    "        \n",
    "        for i in range (1,len(elec_name)):\n",
    "            eeg_state = np.append(eeg_state, elec_2_mat[i][eeg_data + (7501*training)])\n",
    "     \n",
    "        training_mat_DB = np.delete(training_mat_DB, (0), axis=0)#Make space cause using stack\n",
    "        training_mat_DB = np.append(training_mat_DB,[eeg_state],axis= 0)\n",
    "\n",
    "#print (\"Creating the deep breathing testing matrix\")        \n",
    "for testing in progressbar(range (no_of_test_subject)):\n",
    "    for eeg_data in range (7501):\n",
    "        eeg_state = np.array([])\n",
    "        \n",
    "        for i in range (1,len(elec_name)):\n",
    "            eeg_state = np.append(eeg_state, elec_2_mat[i][eeg_data + (7501*(no_of_train_subject+testing))])\n",
    "     \n",
    "        testing_mat_DB = np.delete(testing_mat_DB, (0), axis=0)#Make space cause using stack\n",
    "        testing_mat_DB = np.append(testing_mat_DB,[eeg_state],axis= 0)"
   ]
  },
  {
   "cell_type": "code",
   "execution_count": 9,
   "id": "recreational-acrobat",
   "metadata": {},
   "outputs": [
    {
     "name": "stdout",
     "output_type": "stream",
     "text": [
      "[[-0.2903 -1.6875 -0.8463 ... -1.2129 -2.5774 -2.2581]\n",
      " [-0.4044 -1.7091 -0.8623 ... -1.0171 -2.4313 -2.0698]\n",
      " [-0.5132 -1.7158 -0.8736 ... -0.7886 -2.2547 -1.8503]\n",
      " ...\n",
      " [ 2.5159  1.8799  1.1086 ... -1.199   0.6159 -1.0915]\n",
      " [ 2.5401  1.9409  1.0689 ... -1.0644  0.7851 -0.9785]\n",
      " [ 2.5451  1.9874  1.0281 ... -0.9358  0.9396 -0.8698]]\n",
      "(15002, 9)\n",
      "\n",
      "\n",
      "[[ 1.2009  1.5546 -0.4434 ... -1.2362  2.663   0.5995]\n",
      " [ 1.1888  1.6541 -0.1941 ... -1.245   2.4966  0.7085]\n",
      " [ 1.1794  1.7479  0.0854 ... -1.245   2.2738  0.8045]\n",
      " ...\n",
      " [ 0.3102 -1.0144 -0.3212 ... -0.4888 -2.5697 -1.6892]\n",
      " [ 0.2409 -1.0115 -0.2315 ... -0.4771 -2.8639 -1.869 ]\n",
      " [ 0.1615 -1.0069 -0.1523 ... -0.4542 -3.1214 -2.0132]]\n",
      "(7501, 9)\n"
     ]
    }
   ],
   "source": [
    "print (training_mat_DB)\n",
    "print (training_mat_DB.shape)\n",
    "print (\"\\n\")\n",
    "print (testing_mat_DB)\n",
    "print (testing_mat_DB.shape)"
   ]
  },
  {
   "cell_type": "code",
   "execution_count": 10,
   "id": "tight-island",
   "metadata": {},
   "outputs": [],
   "source": [
    "training_mat = np.concatenate((training_mat_RS, training_mat_DB))\n",
    "testing_mat = np.concatenate((testing_mat_RS, testing_mat_DB))"
   ]
  },
  {
   "cell_type": "markdown",
   "id": "referenced-overall",
   "metadata": {},
   "source": [
    "## Running Kmeans based Microstate Methods"
   ]
  },
  {
   "cell_type": "code",
   "execution_count": 11,
   "id": "choice-bermuda",
   "metadata": {},
   "outputs": [],
   "source": [
    "kmeans = KMeans(n_clusters=2, random_state=0)\n",
    "km = kmeans.fit_predict(training_mat)"
   ]
  },
  {
   "cell_type": "code",
   "execution_count": 12,
   "id": "commercial-triangle",
   "metadata": {},
   "outputs": [
    {
     "name": "stdout",
     "output_type": "stream",
     "text": [
      "Training accuracy of RS =  52.65297960271964 %\n",
      "Training accuracy of DB =  46.69377416344487 %\n"
     ]
    }
   ],
   "source": [
    "count_zero = 0\n",
    "for i in range (7501*no_of_train_subject):\n",
    "    if (km[i] == 0):\n",
    "        count_zero = count_zero + 1\n",
    "        \n",
    "training_acc_RS = (count_zero/(7501*no_of_train_subject)) * 100\n",
    "print (\"Training accuracy of RS = \",training_acc_RS,\"%\")\n",
    "\n",
    "count_one = 0\n",
    "for i in range (7501*no_of_train_subject, len(km)):\n",
    "    if (km[i] == 1):\n",
    "        count_one = count_one + 1\n",
    "        \n",
    "training_acc_DB = (count_one/(7501*no_of_train_subject)) * 100\n",
    "print (\"Training accuracy of DB = \",training_acc_DB,\"%\")"
   ]
  },
  {
   "cell_type": "code",
   "execution_count": 13,
   "id": "informational-disco",
   "metadata": {},
   "outputs": [
    {
     "name": "stdout",
     "output_type": "stream",
     "text": [
      "Testing accuracy of RS =  51.52646313824823 %\n",
      "Testing accuracy of DB =  48.79349420077323 %\n"
     ]
    }
   ],
   "source": [
    "testing_RS_count = 0\n",
    "centroid = kmeans.cluster_centers_\n",
    "for i in range (7501*no_of_test_subject):\n",
    "    distance2rs = distance.euclidean(centroid[0], testing_mat_RS[i])\n",
    "    distance2db = distance.euclidean(centroid[1], testing_mat_RS[i])\n",
    "    if (distance2rs <= distance2db):\n",
    "        testing_RS_count = testing_RS_count + 1\n",
    "\n",
    "testing_acc_RS = (testing_RS_count/(7501*no_of_test_subject) * 100)\n",
    "print (\"Testing accuracy of RS = \",testing_acc_RS,\"%\")\n",
    "\n",
    "testing_DB_count = 0\n",
    "centroid = kmeans.cluster_centers_\n",
    "for i in range (7501*no_of_test_subject):\n",
    "    distance2rs = distance.euclidean(centroid[0], testing_mat_DB[i])\n",
    "    distance2db = distance.euclidean(centroid[1], testing_mat_DB[i])\n",
    "    if (distance2db <= distance2rs):\n",
    "        testing_DB_count = testing_DB_count + 1\n",
    "\n",
    "testing_acc_DB = (testing_DB_count/(7501*no_of_test_subject) * 100)\n",
    "print (\"Testing accuracy of DB = \",testing_acc_DB,\"%\")"
   ]
  },
  {
   "cell_type": "code",
   "execution_count": null,
   "id": "ahead-advertiser",
   "metadata": {},
   "outputs": [],
   "source": []
  }
 ],
 "metadata": {
  "kernelspec": {
   "display_name": "Python 3",
   "language": "python",
   "name": "python3"
  },
  "language_info": {
   "codemirror_mode": {
    "name": "ipython",
    "version": 3
   },
   "file_extension": ".py",
   "mimetype": "text/x-python",
   "name": "python",
   "nbconvert_exporter": "python",
   "pygments_lexer": "ipython3",
   "version": "3.7.6"
  }
 },
 "nbformat": 4,
 "nbformat_minor": 5
}
