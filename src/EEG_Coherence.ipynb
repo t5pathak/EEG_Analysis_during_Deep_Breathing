{
 "cells": [
  {
   "cell_type": "markdown",
   "id": "sudden-literature",
   "metadata": {},
   "source": [
    "## Inter Subject Coherence "
   ]
  },
  {
   "cell_type": "code",
   "execution_count": 2,
   "id": "functional-macro",
   "metadata": {},
   "outputs": [],
   "source": [
    "import numpy as np\n",
    "import math\n",
    "import random\n",
    "import matplotlib.pyplot as plt\n",
    "from scipy import signal\n",
    "from fastdtw import fastdtw\n",
    "from scipy.spatial.distance import euclidean\n",
    "import time\n",
    "from progressbar import progressbar"
   ]
  },
  {
   "cell_type": "code",
   "execution_count": 3,
   "id": "conditional-racing",
   "metadata": {},
   "outputs": [],
   "source": [
    "def freq_scaling(f, old_sig, factor):\n",
    "    len_new = 0\n",
    "    for i in range (0, len(f),factor):\n",
    "        len_new = len_new + 1\n",
    "\n",
    "    f_new = np.zeros(shape=len_new)\n",
    "    psd_new = np.zeros(shape=len_new)\n",
    "\n",
    "    index = 0\n",
    "    for i in range (0,len(f),factor):\n",
    "        f_new[index] = f[i]\n",
    "        psd_new[index] = psd[i]\n",
    "        index = index + 1\n",
    "    return f_new, psd_new"
   ]
  },
  {
   "cell_type": "code",
   "execution_count": 4,
   "id": "infrared-yacht",
   "metadata": {},
   "outputs": [],
   "source": [
    "def get_coh(signal_1, signal_2):\n",
    "    #f, coh = plt.cohere(F3_a, F3_b, 256, 1./.01)\n",
    "    f, coh = signal.coherence(signal_1, signal_2, fs = 500, nperseg=1024)\n",
    "    f, coh = get_freq_range(f, coh)\n",
    "    return f, coh"
   ]
  },
  {
   "cell_type": "code",
   "execution_count": 5,
   "id": "short-consequence",
   "metadata": {},
   "outputs": [],
   "source": [
    "def get_freq_range(f, coh):\n",
    "    alpha_coh = []\n",
    "    alpha_f = []\n",
    "\n",
    "    for i in range (len(coh)):\n",
    "        if (f[i] >= 4 and f[i] <= 12):\n",
    "            alpha_coh.append(coh[i])\n",
    "            alpha_f.append(f[i])\n",
    "    return alpha_f, alpha_coh"
   ]
  },
  {
   "cell_type": "code",
   "execution_count": 6,
   "id": "finite-punch",
   "metadata": {},
   "outputs": [],
   "source": [
    "def plot_coh(f, coh):\n",
    "    plt.plot(f, coh)\n",
    "    plt.ylim([0, 0.2])\n",
    "    plt.grid()\n",
    "    plt.show()"
   ]
  },
  {
   "cell_type": "code",
   "execution_count": 7,
   "id": "secondary-forest",
   "metadata": {},
   "outputs": [],
   "source": [
    "def plot_PSD(f, psd, title):\n",
    "    plt.semilogy(f, psd)\n",
    "    plt.ylim([1e-3, 100])\n",
    "    plt.xlim([6, 15])\n",
    "    plt.xlabel('frequency [Hz]')\n",
    "    plt.ylabel('PSD')\n",
    "    plt.title(title)\n",
    "    plt.show()"
   ]
  },
  {
   "cell_type": "code",
   "execution_count": 8,
   "id": "adult-colombia",
   "metadata": {},
   "outputs": [],
   "source": [
    "f_sampling = 500\n",
    "elec_name = [\"F3\",\"Fz\",\"F4\",\"FC1\",\"FC2\",\"C3\",\"C4\",\"CP1\",\"CP2\",\"P3\",\"Pz\",\"P4\"]\n",
    "no_of_electrode = len(elec_name)\n",
    "no_of_subjects = 3"
   ]
  },
  {
   "cell_type": "markdown",
   "id": "sharp-essex",
   "metadata": {},
   "source": [
    "### For Resting State"
   ]
  },
  {
   "cell_type": "code",
   "execution_count": 9,
   "id": "catholic-trustee",
   "metadata": {},
   "outputs": [],
   "source": [
    "RS_max_coh_arr = np.array([])\n",
    "RS_max_coh_f_arr = np.array([])\n",
    "RS_average_coh_arr = np.array([])"
   ]
  },
  {
   "cell_type": "code",
   "execution_count": 10,
   "id": "female-destruction",
   "metadata": {},
   "outputs": [
    {
     "name": "stderr",
     "output_type": "stream",
     "text": [
      "100% (12 of 12) |########################| Elapsed Time: 0:00:27 Time:  0:00:27\n"
     ]
    }
   ],
   "source": [
    "for electrode in progressbar(range (0,no_of_electrode)):   \n",
    "    peak_coh = np.zeros(shape=[no_of_subjects,no_of_subjects])\n",
    "    peak_coh_f = np.zeros(shape=[no_of_subjects,no_of_subjects])\n",
    "    average_coh = np.zeros(shape=[no_of_subjects,no_of_subjects])\n",
    "    for x in range (no_of_subjects):\n",
    "        source_file_a = '../dataset/RS_individual/RS_'+str(x+1)+'.txt'\n",
    "        \n",
    "        Time_a, Fp1_a, Fz_a, F3_a, F7_a, FT9_a, FC5_a, FC1_a, C3_a, T7_a, TP9_a, CP5_a, CP1_a, Pz_a, P3_a, P7_a, O1_a, Oz_a, O2_a, P4_a, P8_a, TP10_a, CP6_a, CP2_a, C4_a, T8_a, FT10_a, FC6_a, FC2_a, F4_a, F8_a, Fp2_a = np.loadtxt( \n",
    "            source_file_a, \n",
    "            unpack = True)\n",
    "        elec_1_mat = np.stack((F3_a, Fz_a, F4_a, FC1_a, FC2_a, C3_a, C4_a, CP1_a, CP2_a, P3_a, Pz_a, P4_a))\n",
    "        # Only stacking motor region electrodes\n",
    "        \n",
    "        for y in range (no_of_subjects):\n",
    "            source_file_b = '../dataset/RS_individual/RS_'+str(y+1)+'.txt'\n",
    "            Time_b, Fp1_b, Fz_b, F3_b, F7_b, FT9_b, FC5_b, FC1_b, C3_b, T7_b, TP9_b, CP5_b, CP1_b, Pz_b, P3_b, P7_b, O1_b, Oz_b, O2_b, P4_b, P8_b, TP10_b, CP6_b, CP2_b, C4_b, T8_b, FT10_b, FC6_b, FC2_b, F4_b, F8_b, Fp2_b = np.loadtxt( \n",
    "                source_file_b,\n",
    "                unpack = True)\n",
    "            elec_2_mat = np.stack((F3_b, Fz_b, F4_b, FC1_b, FC2_b, C3_b, C4_b, CP1_b, CP2_b, P3_b, Pz_b, P4_b))\n",
    "            # Only stacking motor region electrodes\n",
    "            \n",
    "            f, coh = get_coh(elec_1_mat[electrode], elec_2_mat[electrode])      \n",
    "            max_coh = 0\n",
    "            max_coh_f = 0\n",
    "            sum_coh_alpha = 0\n",
    "\n",
    "            for k in range(len(coh)):\n",
    "                sum_coh_alpha = sum_coh_alpha + coh[k]\n",
    "                if (max_coh < coh[k]):\n",
    "                    max_coh = coh[k]\n",
    "                    max_coh_f = f[k]\n",
    "\n",
    "            peak_coh[x][y] = max_coh\n",
    "            peak_coh_f[x][y] = max_coh_f\n",
    "            average_coh[x][y] = (sum_coh_alpha/len(coh))\n",
    "    \n",
    "    #max_coh_arr.append((peak_coh[np.triu_indices(3)]))\n",
    "    temp_coh_uppr = (np.triu(peak_coh, k=1))    \n",
    "    temp_coh_f_uppr = (np.triu(peak_coh_f, k=1))\n",
    "    temp_average_coh = (np.triu(average_coh, k=1))\n",
    "    \n",
    "    for p in range (no_of_subjects):\n",
    "        for q in range (no_of_subjects):\n",
    "            if (temp_coh_uppr[p][q] != 0):                \n",
    "                RS_max_coh_arr = np.append(RS_max_coh_arr, temp_coh_uppr[p][q])\n",
    "                RS_max_coh_f_arr = np.append(RS_max_coh_f_arr,temp_coh_f_uppr[p][q])\n",
    "                RS_average_coh_arr = np.append(RS_average_coh_arr, temp_average_coh[p][q])"
   ]
  },
  {
   "cell_type": "markdown",
   "id": "ranging-saskatchewan",
   "metadata": {},
   "source": [
    "### For Deep Breathing"
   ]
  },
  {
   "cell_type": "code",
   "execution_count": 11,
   "id": "viral-magnitude",
   "metadata": {},
   "outputs": [],
   "source": [
    "DB_max_coh_arr = np.array([])\n",
    "DB_max_coh_f_arr = np.array([])\n",
    "DB_average_coh_arr = np.array([])"
   ]
  },
  {
   "cell_type": "code",
   "execution_count": 12,
   "id": "possible-activation",
   "metadata": {},
   "outputs": [
    {
     "name": "stderr",
     "output_type": "stream",
     "text": [
      "100% (12 of 12) |########################| Elapsed Time: 0:00:26 Time:  0:00:26\n"
     ]
    }
   ],
   "source": [
    "for electrode in progressbar(range (0,no_of_electrode)):   \n",
    "    peak_coh = np.zeros(shape=[no_of_subjects,no_of_subjects])\n",
    "    peak_coh_f = np.zeros(shape=[no_of_subjects,no_of_subjects])\n",
    "    average_coh = np.zeros(shape=[no_of_subjects,no_of_subjects])\n",
    "    for x in range (no_of_subjects):\n",
    "        source_file_a = '../dataset/DB_individual/DB_'+str(x+1)+'.txt'\n",
    "\n",
    "        Time_a, Fp1_a, Fz_a, F3_a, F7_a, FT9_a, FC5_a, FC1_a, C3_a, T7_a, TP9_a, CP5_a, CP1_a, Pz_a, P3_a, P7_a, O1_a, Oz_a, O2_a, P4_a, P8_a, TP10_a, CP6_a, CP2_a, C4_a, T8_a, FT10_a, FC6_a, FC2_a, F4_a, F8_a, Fp2_a = np.loadtxt( \n",
    "            source_file_a, \n",
    "            unpack = True)\n",
    "        elec_1_mat = np.stack((F3_a, Fz_a, F4_a, FC1_a, FC2_a, C3_a, C4_a, CP1_a, CP2_a, P3_a, Pz_a, P4_a))\n",
    "        \n",
    "        for y in range (no_of_subjects):\n",
    "            source_file_b = '../dataset/DB_individual/DB_'+str(y+1)+'.txt'\n",
    "            Time_b, Fp1_b, Fz_b, F3_b, F7_b, FT9_b, FC5_b, FC1_b, C3_b, T7_b, TP9_b, CP5_b, CP1_b, Pz_b, P3_b, P7_b, O1_b, Oz_b, O2_b, P4_b, P8_b, TP10_b, CP6_b, CP2_b, C4_b, T8_b, FT10_b, FC6_b, FC2_b, F4_b, F8_b, Fp2_b = np.loadtxt( \n",
    "                source_file_b,\n",
    "                unpack = True)\n",
    "            elec_2_mat = np.stack((F3_b, Fz_b, F4_b, FC1_b, FC2_b, C3_b, C4_b, CP1_b, CP2_b, P3_b, Pz_b, P4_b))\n",
    "            \n",
    "            f, coh = get_coh(elec_1_mat[electrode], elec_2_mat[electrode])      \n",
    "            max_coh = 0\n",
    "            max_coh_f = 0\n",
    "            sum_coh_alpha = 0\n",
    "\n",
    "            for k in range(len(coh)):\n",
    "                sum_coh_alpha = sum_coh_alpha + coh[k]\n",
    "                if (max_coh < coh[k]):\n",
    "                    max_coh = coh[k]\n",
    "                    max_coh_f = f[k]\n",
    "\n",
    "            peak_coh[x][y] = max_coh\n",
    "            peak_coh_f[x][y] = max_coh_f\n",
    "            average_coh[x][y] = (sum_coh_alpha/len(coh))\n",
    "    \n",
    "    #max_coh_arr.append((peak_coh[np.triu_indices(3)]))\n",
    "    temp_coh_uppr = (np.triu(peak_coh, k=1))    \n",
    "    temp_coh_f_uppr = (np.triu(peak_coh_f, k=1))\n",
    "    temp_average_coh = (np.triu(average_coh, k=1))\n",
    "    \n",
    "    for p in range (no_of_subjects):\n",
    "        for q in range (no_of_subjects):\n",
    "            if (temp_coh_uppr[p][q] != 0):                \n",
    "                DB_max_coh_arr = np.append(DB_max_coh_arr, temp_coh_uppr[p][q])\n",
    "                DB_max_coh_f_arr = np.append(DB_max_coh_f_arr,temp_coh_f_uppr[p][q])\n",
    "                DB_average_coh_arr = np.append(DB_average_coh_arr, temp_average_coh[p][q])"
   ]
  },
  {
   "cell_type": "markdown",
   "id": "described-element",
   "metadata": {},
   "source": [
    "### Scatter Plot of Resting State and Deep Breathing Coherence Peaks"
   ]
  },
  {
   "cell_type": "code",
   "execution_count": 13,
   "id": "measured-midnight",
   "metadata": {},
   "outputs": [
    {
     "data": {
      "image/png": "[encoded data removed]",
      "text/plain": [
       "<Figure size 400x400 with 1 Axes>"
      ]
     },
     "metadata": {
      "needs_background": "light"
     },
     "output_type": "display_data"
    }
   ],
   "source": [
    "plt.figure(figsize=(5,5), dpi=80)\n",
    "plt.scatter(RS_max_coh_f_arr, RS_max_coh_arr, color='red')\n",
    "plt.scatter(DB_max_coh_f_arr, DB_max_coh_arr, color='blue')\n",
    "plt.title(\"Coherence Peaks and its corresponding Frequency\")\n",
    "plt.grid()\n",
    "plt.legend([\"Resting State\" , \"Deep Breathing\"])\n",
    "plt.show()"
   ]
  },
  {
   "cell_type": "markdown",
   "id": "injured-orbit",
   "metadata": {},
   "source": [
    "### Scatter Plot of Resting State and Deep Breathing Average Coherence"
   ]
  },
  {
   "cell_type": "code",
   "execution_count": 14,
   "id": "careful-wholesale",
   "metadata": {},
   "outputs": [
    {
     "data": {
      "image/png": "[encoded data removed]",
      "text/plain": [
       "<Figure size 432x288 with 1 Axes>"
      ]
     },
     "metadata": {
      "needs_background": "light"
     },
     "output_type": "display_data"
    },
    {
     "data": {
      "image/png": "[encoded data removed]",
      "text/plain": [
       "<Figure size 432x288 with 1 Axes>"
      ]
     },
     "metadata": {
      "needs_background": "light"
     },
     "output_type": "display_data"
    },
    {
     "data": {
      "image/png": "[encoded data removed]",
      "text/plain": [
       "<Figure size 640x160 with 1 Axes>"
      ]
     },
     "metadata": {
      "needs_background": "light"
     },
     "output_type": "display_data"
    }
   ],
   "source": [
    "y_avg_val = np.ones(shape=[len(DB_average_coh_arr)])\n",
    "\n",
    "plt.scatter(RS_average_coh_arr,y_avg_val, color='red')\n",
    "plt.title(\"Average Coherence - RS\")\n",
    "plt.grid()\n",
    "plt.show()\n",
    "\n",
    "plt.scatter(DB_average_coh_arr,y_avg_val, color='blue')\n",
    "plt.title(\"Average Coherence - DB\")\n",
    "plt.grid()\n",
    "plt.show()\n",
    "\n",
    "plt.figure(figsize=(8,2), dpi=80)\n",
    "plt.scatter(RS_average_coh_arr,y_avg_val, color='red')\n",
    "plt.scatter(DB_average_coh_arr,y_avg_val, color='blue')\n",
    "plt.title(\"Average Coherence - RS vs DB\")\n",
    "plt.grid()\n",
    "plt.legend([\"Resting State\" , \"Deep Breathing\"])\n",
    "plt.show()"
   ]
  },
  {
   "cell_type": "code",
   "execution_count": null,
   "id": "satisfactory-architecture",
   "metadata": {},
   "outputs": [],
   "source": []
  }
 ],
 "metadata": {
  "kernelspec": {
   "display_name": "Python 3",
   "language": "python",
   "name": "python3"
  },
  "language_info": {
   "codemirror_mode": {
    "name": "ipython",
    "version": 3
   },
   "file_extension": ".py",
   "mimetype": "text/x-python",
   "name": "python",
   "nbconvert_exporter": "python",
   "pygments_lexer": "ipython3",
   "version": "3.7.6"
  }
 },
 "nbformat": 4,
 "nbformat_minor": 5
}
